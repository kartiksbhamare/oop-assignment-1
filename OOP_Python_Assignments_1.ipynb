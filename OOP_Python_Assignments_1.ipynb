{
  "nbformat": 4,
  "nbformat_minor": 0,
  "metadata": {
    "colab": {
      "name": "OOP-Python-Assignments-1",
      "provenance": [],
      "collapsed_sections": [],
      "include_colab_link": true
    },
    "kernelspec": {
      "name": "python3",
      "display_name": "Python 3"
    },
    "language_info": {
      "name": "python"
    }
  },
  "cells": [
    {
      "cell_type": "markdown",
      "metadata": {
        "id": "view-in-github",
        "colab_type": "text"
      },
      "source": [
        "<a href=\"https://colab.research.google.com/github/kartiksbhamare/oop-assignment-1/blob/main/OOP_Python_Assignments_1.ipynb\" target=\"_parent\"><img src=\"https://colab.research.google.com/assets/colab-badge.svg\" alt=\"Open In Colab\"/></a>"
      ]
    },
    {
      "cell_type": "code",
      "metadata": {
        "id": "VhgIGkR1J-t8"
      },
      "source": [
        ""
      ],
      "execution_count": null,
      "outputs": []
    },
    {
      "cell_type": "code",
      "metadata": {
        "id": "JNG1i1WCSYY6"
      },
      "source": [
        ""
      ],
      "execution_count": null,
      "outputs": []
    },
    {
      "cell_type": "markdown",
      "metadata": {
        "id": "qBmUBiCrKKrp"
      },
      "source": [
        "### Program -1"
      ]
    },
    {
      "cell_type": "code",
      "metadata": {
        "id": "WiTH8r28Knwk",
        "colab": {
          "base_uri": "https://localhost:8080/"
        },
        "outputId": "567447bf-2098-411a-8486-31a8aa6439a0"
      },
      "source": [
        "''' The example below shows how different variables are assigned. \n",
        "The same variables are printed '''\n",
        "\n",
        "#!/usr/bin/python\n",
        "\n",
        "x = 30              # a whole number                   \n",
        "f = 3.1415926      # a floating point number              \n",
        "myName = \"OOP using Python\"    # a string variable - Camel casing\n",
        "print(x)\n",
        "print(f)\n",
        "print(myName)\n",
        "combination = myName + \" \" + myName\n",
        "print(combination)\n",
        "sum = f + f\n",
        "print(sum) \n"
      ],
      "execution_count": null,
      "outputs": [
        {
          "output_type": "stream",
          "text": [
            "30\n",
            "3.1415926\n",
            "OOP using Python\n",
            "OOP using Python OOP using Python\n",
            "6.2831852\n"
          ],
          "name": "stdout"
        }
      ]
    },
    {
      "cell_type": "code",
      "metadata": {
        "id": "HW2TsgogKp73"
      },
      "source": [
        ""
      ],
      "execution_count": null,
      "outputs": []
    },
    {
      "cell_type": "markdown",
      "metadata": {
        "id": "Ibd8J9HmKxf5"
      },
      "source": [
        "### Program -2 "
      ]
    },
    {
      "cell_type": "code",
      "metadata": {
        "id": "HVI62M89K_D4",
        "colab": {
          "base_uri": "https://localhost:8080/"
        },
        "outputId": "39ad9564-5421-4d73-d165-571923153111"
      },
      "source": [
        "# Problem 2     Python strings \n",
        "x = \"Welcome to OOP Course\"\n",
        "print(x)\n",
        "print(x[0])       # indexing starts from 0\n",
        "print(x[1])\n",
        "s = x[0:3]        # substring \n",
        "print(s)\n",
        "t = x[8:10]     # indexing \n",
        "print(t)\n",
        "s = \"My lucky number is %d, what is yours?\" % 7          # Combine numbers and text\n",
        "print(s)\n",
        "s = \"My lucky number is \" + str(7) + \", what is yours?\"   # alternative method of combining numbers and text\n",
        "print(s)"
      ],
      "execution_count": null,
      "outputs": [
        {
          "output_type": "stream",
          "text": [
            "Welcome to OOP Course\n",
            "W\n",
            "e\n",
            "Wel\n",
            "to\n",
            "My lucky number is 7, what is yours?\n",
            "My lucky number is 7, what is yours?\n"
          ],
          "name": "stdout"
        }
      ]
    },
    {
      "cell_type": "code",
      "metadata": {
        "id": "Yrr3CydELACm"
      },
      "source": [
        ""
      ],
      "execution_count": null,
      "outputs": []
    },
    {
      "cell_type": "markdown",
      "metadata": {
        "id": "oueKuixrLA8q"
      },
      "source": [
        "### Program -3 "
      ]
    },
    {
      "cell_type": "code",
      "metadata": {
        "id": "WaJyreUFLHuN",
        "colab": {
          "base_uri": "https://localhost:8080/"
        },
        "outputId": "ac5c8de3-11dd-47db-9b42-e1a427f9ed9e"
      },
      "source": [
        "# Problem 3 - Use string functions\n",
        "s = \"OOP Course is offered in IIIT DWD\"\n",
        "s = s.replace(\"OOP\",\"CS\")\n",
        "index = s.find(\"IIIT DWD\")\n",
        "if \"IIIT DWD\" in s:\n",
        "    print(\"Institute found\")\n",
        "print(s,\"\\n\", index)"
      ],
      "execution_count": null,
      "outputs": [
        {
          "output_type": "stream",
          "text": [
            "Institute found\n",
            "CS Course is offered in IIIT DWD \n",
            " 24\n"
          ],
          "name": "stdout"
        }
      ]
    },
    {
      "cell_type": "code",
      "metadata": {
        "id": "RiKENL92LJQD"
      },
      "source": [
        ""
      ],
      "execution_count": null,
      "outputs": []
    },
    {
      "cell_type": "markdown",
      "metadata": {
        "id": "dC5nz_H0LKQi"
      },
      "source": [
        "### Program 4"
      ]
    },
    {
      "cell_type": "code",
      "metadata": {
        "id": "ogSQL_wsLMFj",
        "colab": {
          "base_uri": "https://localhost:8080/"
        },
        "outputId": "8afaa252-e9bc-4d98-a904-01f3e2828fc8"
      },
      "source": [
        "# Problem 4 \n",
        "\n",
        "# define strings                                                         \n",
        "firstName = \"OOP\"\n",
        "lastName = \"Course\"\n",
        "words = [\"How\",\"are\",\"you\",\"learning \", \"OOP \" , \"Course\",\"?\"]\n",
        "\n",
        "sentence = ' '.join(words)\n",
        "print(sentence)\n"
      ],
      "execution_count": null,
      "outputs": [
        {
          "output_type": "stream",
          "text": [
            "How are you learning  OOP  Course ?\n"
          ],
          "name": "stdout"
        }
      ]
    },
    {
      "cell_type": "code",
      "metadata": {
        "id": "QotTPifVLQuK"
      },
      "source": [
        ""
      ],
      "execution_count": null,
      "outputs": []
    },
    {
      "cell_type": "markdown",
      "metadata": {
        "id": "tH0wxSWwLR2g"
      },
      "source": [
        "### Program 5"
      ]
    },
    {
      "cell_type": "code",
      "metadata": {
        "id": "54WrzhoILXoA",
        "colab": {
          "base_uri": "https://localhost:8080/"
        },
        "outputId": "ba538e2e-0e33-416a-bc4a-3fecd9fc521d"
      },
      "source": [
        "# Problem 5 \n",
        "s = \"OOP course is easy to Learn\"\n",
        "words = s.split()        # splits sentence into list of words\n",
        "print(words, len(s))\n",
        "\n",
        "x = list(words[0])   # splits word in character\n",
        "print(x)"
      ],
      "execution_count": null,
      "outputs": [
        {
          "output_type": "stream",
          "text": [
            "['OOP', 'course', 'is', 'easy', 'to', 'Learn'] 27\n",
            "['O', 'O', 'P']\n"
          ],
          "name": "stdout"
        }
      ]
    },
    {
      "cell_type": "markdown",
      "metadata": {
        "id": "KKhoM8cSLY6T"
      },
      "source": [
        "### Program 6"
      ]
    },
    {
      "cell_type": "code",
      "metadata": {
        "id": "6AFAUbc0LeW4",
        "colab": {
          "base_uri": "https://localhost:8080/"
        },
        "outputId": "23f57f07-5443-4cf5-9461-78661087003c"
      },
      "source": [
        "# problem 6\n",
        "\n",
        "import random\n",
        "\n",
        "# Create a random floating point number and print it.\n",
        "print(random.random())\n",
        "\n",
        "# pick a random whole number between 0 and 10.\n",
        "print(random.randrange(0,15))\n",
        "\n",
        "# pick a random floating point number between 0 and 10.\n",
        "print(random.uniform(0,10))"
      ],
      "execution_count": null,
      "outputs": [
        {
          "output_type": "stream",
          "text": [
            "0.17105697943196607\n",
            "4\n",
            "8.412986337761941\n"
          ],
          "name": "stdout"
        }
      ]
    },
    {
      "cell_type": "code",
      "metadata": {
        "id": "BOISzg2mLfhm"
      },
      "source": [
        ""
      ],
      "execution_count": null,
      "outputs": []
    },
    {
      "cell_type": "markdown",
      "metadata": {
        "id": "BAI2ekPyLgX0"
      },
      "source": [
        "### Program 7"
      ]
    },
    {
      "cell_type": "code",
      "metadata": {
        "id": "ibI3tlJXLiji",
        "colab": {
          "base_uri": "https://localhost:8080/"
        },
        "outputId": "ca51c238-1b66-44cb-f0a3-6dd1c4a0f0ea"
      },
      "source": [
        "# problem 7\n",
        "\n",
        "#!/usr/bin/env python3\n",
        "\n",
        "name = input('What is your name? ')\n",
        "print('Welcome to OOP Course ' + name)\n",
        "\n",
        "qualification = input('What is your Qualification? ')\n",
        "print(name + \"'s\" + ' 90Educational Qualification  is ' + qualification)\n",
        "\n",
        "phoneNum = input('Give me pohone number? ')\n",
        "print('Phone number is : ' + str(phoneNum))\n"
      ],
      "execution_count": null,
      "outputs": [
        {
          "output_type": "stream",
          "text": [
            "What is your name? kartik\n",
            "Welcome to OOP Course kartik\n",
            "What is your Qualification? btec\n",
            "kartik's 90Educational Qualification  is btec\n",
            "Give me pohone number? 100\n",
            "Phone number is : 100\n"
          ],
          "name": "stdout"
        }
      ]
    },
    {
      "cell_type": "markdown",
      "metadata": {
        "id": "5bfyR3uWMh-z"
      },
      "source": [
        "### Program 8"
      ]
    },
    {
      "cell_type": "code",
      "metadata": {
        "id": "g6Kuf5jzMoOa",
        "colab": {
          "base_uri": "https://localhost:8080/"
        },
        "outputId": "9c6327b7-c5f0-4f2b-e620-ef3e2d821ca0"
      },
      "source": [
        "# problem 8    interactive program\n",
        "\n",
        "#!/usr/bin/env python3\n",
        "\n",
        "gender = input(\"Gender? \")\n",
        "gender = gender.lower()\n",
        "if gender == \"male\":\n",
        "    print(\" cat is male\")\n",
        "elif gender == \"female\":\n",
        "    print(\"cat is female\")\n",
        "else:\n",
        "    print(\"Invalid input\")\n",
        "age = int(input(\"Age of your cat? \"))\n",
        "\n",
        "if age < 5:\n",
        "    print(\"cat age is\", age)\n",
        "else:\n",
        "    print(\"Your cat is adult.\")\n",
        "\n",
        "x = 3\n",
        "if x == 2:\n",
        "    print('two')\n",
        "elif x == 3:\n",
        "    print('three')\n",
        "elif x == 4:\n",
        "    print('four')\n",
        "else:\n",
        "    print('something else')\n"
      ],
      "execution_count": null,
      "outputs": [
        {
          "output_type": "stream",
          "text": [
            "Gender? male\n",
            " cat is male\n",
            "Age of your cat? 9\n",
            "Your cat is adult.\n",
            "three\n"
          ],
          "name": "stdout"
        }
      ]
    },
    {
      "cell_type": "markdown",
      "metadata": {
        "id": "Dq6ciHBINFzZ"
      },
      "source": [
        "### Program 9 - Loops"
      ]
    },
    {
      "cell_type": "code",
      "metadata": {
        "id": "w9NGvgdxNKmJ",
        "colab": {
          "base_uri": "https://localhost:8080/"
        },
        "outputId": "166d43ab-acf9-4897-d5a4-01a2b2e90005"
      },
      "source": [
        "# Problem 9   \n",
        "#!/usr/bin/env python3\n",
        "# The first loop will repeat the print function for every item of the list.\n",
        "# The second loop will do a calculation on every element of the list num and print the result.\n",
        "\n",
        "city = ['Tokyo','New York','Toronto','Hong Kong']\n",
        "print('Cities loop:')\n",
        "for x in city:\n",
        "    print('City: ' + x)\n",
        "\n",
        "# problem 10\n",
        "\n",
        "x = 3                              \n",
        "while x < 10:\n",
        "    print(x)\n",
        "    x = x + 1"
      ],
      "execution_count": null,
      "outputs": [
        {
          "output_type": "stream",
          "text": [
            "Cities loop:\n",
            "City: Tokyo\n",
            "City: New York\n",
            "City: Toronto\n",
            "City: Hong Kong\n",
            "3\n",
            "4\n",
            "5\n",
            "6\n",
            "7\n",
            "8\n",
            "9\n"
          ],
          "name": "stdout"
        }
      ]
    },
    {
      "cell_type": "markdown",
      "metadata": {
        "id": "_X5BOwB4NfOH"
      },
      "source": [
        "### Program 10 "
      ]
    },
    {
      "cell_type": "code",
      "metadata": {
        "id": "sQc7hsGKNoSK",
        "colab": {
          "base_uri": "https://localhost:8080/"
        },
        "outputId": "ee20fe9b-75bd-4899-ef25-86e8106a431a"
      },
      "source": [
        "# problem 10 - functions without  parameters\n",
        "\n",
        "def currentYear():\n",
        "    print('2018')\n",
        "currentYear()    \n",
        "\n",
        "\n",
        "def f(x,y):     # with parameters\n",
        "    return x*y\n",
        "print(f(3,4))\n",
        "result = f(3,4)   # return to a variable \n",
        "print(result)\n",
        "print('\\n')  # newline\n",
        "\n",
        "\n",
        "num = [1,2,3,4,5,6,7,8,9]\n",
        "print('x^2 loop:')\n",
        "for x in num:\n",
        "    y = x * x\n",
        "    print(str(x) + '*' + str(x) + '=' + str(y))\n",
        "\n",
        "# Python lists\n",
        "pythonList = [ \"New York\", \"Los Angles\", \"Boston\", \"Denver\" ]\n",
        "\n",
        "print(pythonList)     # prints all elements\n",
        "print(pythonList[0])  # print first element\n",
        "print(pythonList[-1])\n",
        "   "
      ],
      "execution_count": null,
      "outputs": [
        {
          "output_type": "stream",
          "text": [
            "2018\n",
            "12\n",
            "12\n",
            "\n",
            "\n",
            "x^2 loop:\n",
            "1*1=1\n",
            "2*2=4\n",
            "3*3=9\n",
            "4*4=16\n",
            "5*5=25\n",
            "6*6=36\n",
            "7*7=49\n",
            "8*8=64\n",
            "9*9=81\n",
            "['New York', 'Los Angles', 'Boston', 'Denver']\n",
            "New York\n",
            "Denver\n"
          ],
          "name": "stdout"
        }
      ]
    },
    {
      "cell_type": "code",
      "metadata": {
        "id": "JAtHTENNNPuD"
      },
      "source": [
        ""
      ],
      "execution_count": null,
      "outputs": []
    }
  ]
}